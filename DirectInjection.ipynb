{
  "nbformat": 4,
  "nbformat_minor": 0,
  "metadata": {
    "colab": {
      "name": "DirectInjection.ipynb",
      "provenance": [],
      "collapsed_sections": [],
      "authorship_tag": "ABX9TyNC6OLI/JFNA9qTKgtO7828",
      "include_colab_link": true
    },
    "kernelspec": {
      "name": "python3",
      "display_name": "Python 3"
    },
    "language_info": {
      "name": "python"
    }
  },
  "cells": [
    {
      "cell_type": "markdown",
      "metadata": {
        "id": "view-in-github",
        "colab_type": "text"
      },
      "source": [
        "<a href=\"https://colab.research.google.com/github/GremlinAssassin/AssemblyInfer/blob/main/DirectInjection.ipynb\" target=\"_parent\"><img src=\"https://colab.research.google.com/assets/colab-badge.svg\" alt=\"Open In Colab\"/></a>"
      ]
    },
    {
      "cell_type": "markdown",
      "source": [
        "This cell sets up the script with the python packages that we both need (numpy and pandas) and thoses that are useful for the way we have designed this script (pathlib) and ones that can make the data look nice (matplotlib and seaborn). We are only going to look at the MSexperiment class from assembly Infer and the ripper converts mzML files into a Json format."
      ],
      "metadata": {
        "id": "fQTRAubkU_8R"
      }
    },
    {
      "cell_type": "code",
      "execution_count": 1,
      "metadata": {
        "id": "RDr9lyTAEkHA",
        "colab": {
          "base_uri": "https://localhost:8080/",
          "height": 373
        },
        "outputId": "bfb185eb-7d7d-4c42-f775-d7e0b2a0061c"
      },
      "outputs": [
        {
          "output_type": "error",
          "ename": "ModuleNotFoundError",
          "evalue": "ignored",
          "traceback": [
            "\u001b[0;31m---------------------------------------------------------------------------\u001b[0m",
            "\u001b[0;31mModuleNotFoundError\u001b[0m                       Traceback (most recent call last)",
            "\u001b[0;32m<ipython-input-1-5a5500c4844c>\u001b[0m in \u001b[0;36m<module>\u001b[0;34m()\u001b[0m\n\u001b[1;32m      5\u001b[0m \u001b[0;32mimport\u001b[0m \u001b[0mseaborn\u001b[0m \u001b[0;32mas\u001b[0m \u001b[0msns\u001b[0m\u001b[0;34m\u001b[0m\u001b[0;34m\u001b[0m\u001b[0m\n\u001b[1;32m      6\u001b[0m \u001b[0;34m\u001b[0m\u001b[0m\n\u001b[0;32m----> 7\u001b[0;31m \u001b[0;32mfrom\u001b[0m \u001b[0massemblyinfer\u001b[0m \u001b[0;32mimport\u001b[0m \u001b[0mMSExperiment\u001b[0m\u001b[0;34m\u001b[0m\u001b[0;34m\u001b[0m\u001b[0m\n\u001b[0m\u001b[1;32m      8\u001b[0m \u001b[0;34m\u001b[0m\u001b[0m\n\u001b[1;32m      9\u001b[0m \u001b[0;32mimport\u001b[0m \u001b[0mmzmlripper\u001b[0m\u001b[0;34m.\u001b[0m\u001b[0mextractor\u001b[0m \u001b[0;32mas\u001b[0m \u001b[0mripper\u001b[0m\u001b[0;34m\u001b[0m\u001b[0;34m\u001b[0m\u001b[0m\n",
            "\u001b[0;31mModuleNotFoundError\u001b[0m: No module named 'assemblyinfer'",
            "",
            "\u001b[0;31m---------------------------------------------------------------------------\u001b[0;32m\nNOTE: If your import is failing due to a missing package, you can\nmanually install dependencies using either !pip or !apt.\n\nTo view examples of installing some common dependencies, click the\n\"Open Examples\" button below.\n\u001b[0;31m---------------------------------------------------------------------------\u001b[0m\n"
          ],
          "errorDetails": {
            "actions": [
              {
                "action": "open_url",
                "actionText": "Open Examples",
                "url": "/notebooks/snippets/importing_libraries.ipynb"
              }
            ]
          }
        }
      ],
      "source": [
        "from pathlib import Path\n",
        "import numpy as np\n",
        "import pandas as pd\n",
        "import matplotlib.pyplot as plt\n",
        "import seaborn as sns\n",
        "\n",
        "from assemblyinfer import MSExperiment\n",
        "\n",
        "import mzmlripper.extractor as ripper\n"
      ]
    },
    {
      "cell_type": "markdown",
      "source": [
        "Next is the the code that will tell this script where the data you you would like to look at is DATA_FOLDER and where the files should go when we are done. It has been setup so that the finiahed filesand plots will go into the same folder"
      ],
      "metadata": {
        "id": "bMONeeF1V02Y"
      }
    },
    {
      "cell_type": "code",
      "source": [
        "DATA_FOLDER = 'D:\\Silke\\SIA7-59\\mzml'\n",
        "\n",
        "DATA_OUTPUT = DATA_FOLDER"
      ],
      "metadata": {
        "id": "5JpmYBSSV2Co"
      },
      "execution_count": null,
      "outputs": []
    },
    {
      "cell_type": "markdown",
      "source": [
        "This is the bit that the 'ripper' will do. We are converting mZML files into JSon files. It allows us easier access to the data inside the files. By doing it this way we also check to see if the corresponding JSON file already exsists. If it does then it will not reconvert the file saving a lot of time.\n",
        "\n",
        "This will check all folders and subfolders in a specific location. If you do NOT want to look in subfolders change rglob to glob.\n"
      ],
      "metadata": {
        "id": "klf9L7t2WmO3"
      }
    },
    {
      "cell_type": "code",
      "source": [
        "for mzml in list(Path(DATA_FOLDER).rglob(\"*.mzml\")):\n",
        "    \n",
        "    if not Path(DATA_FOLDER, f'ripper_{mzml.stem}.json').exists():\n",
        "        \n",
        "        ripper.process_mzml_file(\n",
        "            filename=str(mzml),\n",
        "            out_dir=DATA_FOLDER)"
      ],
      "metadata": {
        "id": "p1Y_nKB9XXdf"
      },
      "execution_count": null,
      "outputs": []
    },
    {
      "cell_type": "markdown",
      "source": [
        "We now have our converted files, we now need to clean up and filter our data. We will "
      ],
      "metadata": {
        "id": "uzJUdbn6YJtY"
      }
    },
    {
      "cell_type": "code",
      "source": [
        "for jsn in list(Path(DATA_FOLDER).rglob(\"*.json\")):\n",
        "    \n",
        "    print(f\"starting analysis of {jsn.stem}\")\n",
        "\n",
        "    msdata = MSExperiment(\n",
        "        source_file=str(jsn),\n",
        "        error=0.01\n",
        "    )\n",
        "    #filters by intensity on the total ion current. This value will change with instruments.\n",
        "    msdata.filter_by_tic(tic_threshold=1E6)\n",
        "    #this then combines MS2 spectra based on the precursor mass \n",
        "    msdata.combine_spectra_by_precursor(spectra=msdata.spectra, ms_level=2)\n",
        "\n",
        "\n",
        "    try:\n",
        "         peak_count_dict = msdata.get_peak_counts_from_consensus_spectra(int_filter=0.05, occur_filter=0.25)\n",
        "        \n",
        "    except Exception:\n",
        "        print(f\"no peaks for {jsn.stem}\")\n",
        "        continue\n",
        "\n",
        "    #Pandas dataframe with m/x and Peak Count\n",
        "    peak_count_df = pd.DataFrame(\n",
        "        list(peak_count_dict.items()), columns=['m/z', 'MS2 Peak Count'])\n",
        "    \n",
        "    #data type conversion to numeric (float values)\n",
        "    peak_count_df = peak_count_df.apply(pd.to_numeric)\n",
        "\n",
        "    peak_count_df['Sample Name'] = jsn.stem\n",
        "    all_peak_counts = all_peak_counts.append(peak_count_df, ignore_index=True)\n",
        "\n",
        "    peak_count_df.to_csv(Path(PLOT_OUTPUT, f\"{jsn.stem}_peak_counts.csv\"), index=False)\n",
        "\n"
      ],
      "metadata": {
        "id": "o34FKVR7Yp1R"
      },
      "execution_count": null,
      "outputs": []
    },
    {
      "cell_type": "markdown",
      "source": [
        "Now we have our data cleaned, filtered and outputted to CSV format we can make a plot to visulise the data."
      ],
      "metadata": {
        "id": "HSjIgHWIbL94"
      }
    },
    {
      "cell_type": "code",
      "source": [
        "    # make basic scatter plot of MS2 peak count and m/z\n",
        "    plt.scatter(x='m/z', y='MS2 Peak Count', data=peak_count_df)\n",
        "    \n",
        "    # add title of json file name\n",
        "    plt.title(jsn.stem)\n",
        "    \n",
        "    # add axis titles\n",
        "    plt.xlabel(\"m/z\")\n",
        "    plt.ylabel(\"MS2 Peak Count\")\n",
        "    \n",
        "    # this normally makes sure that the full plot is saved and not weirdly chopped\n",
        "    plt.tight_layout()\n",
        "            \n",
        "    # save plot as png\n",
        "    plt.savefig(Path(PLOT_OUTPUT, f\"{jsn.stem}.png\"), dpi=300)\n",
        "    \n",
        "    # close the plot\n",
        "    plt.close()"
      ],
      "metadata": {
        "id": "RsZk3xzTbkGP"
      },
      "execution_count": null,
      "outputs": []
    },
    {
      "cell_type": "markdown",
      "source": [
        ""
      ],
      "metadata": {
        "id": "isyNPKpdXyZY"
      }
    }
  ]
}