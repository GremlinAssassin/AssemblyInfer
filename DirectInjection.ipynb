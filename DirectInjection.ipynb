{
  "nbformat": 4,
  "nbformat_minor": 0,
  "metadata": {
    "colab": {
      "name": "DirectInjection.ipynb",
      "provenance": [],
      "authorship_tag": "ABX9TyOOEszg03oZuaXbR/cpiYUs",
      "include_colab_link": true
    },
    "kernelspec": {
      "name": "python3",
      "display_name": "Python 3"
    },
    "language_info": {
      "name": "python"
    }
  },
  "cells": [
    {
      "cell_type": "markdown",
      "metadata": {
        "id": "view-in-github",
        "colab_type": "text"
      },
      "source": [
        "<a href=\"https://colab.research.google.com/github/GremlinAssassin/AssemblyInfer/blob/main/DirectInjection.ipynb\" target=\"_parent\"><img src=\"https://colab.research.google.com/assets/colab-badge.svg\" alt=\"Open In Colab\"/></a>"
      ]
    },
    {
      "cell_type": "markdown",
      "source": [
        "This cell sets up the script with the python packages that we both need (numpy and pandas) and thoses that are useful for the way we have designed this script (pathlib) and ones that can make the data look nice (matplotlib and seaborn). We are only going to look at the MSexperiment class from assembly Infer and the ripper converts mzML files into a Json format."
      ],
      "metadata": {
        "id": "fQTRAubkU_8R"
      }
    },
    {
      "cell_type": "code",
      "execution_count": null,
      "metadata": {
        "id": "RDr9lyTAEkHA"
      },
      "outputs": [],
      "source": [
        "from pathlib import Path\n",
        "import numpy as np\n",
        "import pandas as pd\n",
        "import matplotlib.pyplot as plt\n",
        "import seaborn as sns\n",
        "\n",
        "from assemblyinfer import MSExperiment\n",
        "\n",
        "import mzmlripper.extractor as ripper\n"
      ]
    },
    {
      "cell_type": "markdown",
      "source": [
        "Next is the the code that will tell this script where the data you you would like to look at is DATA_FOLDER and where the files should go when we are done. It has been setup so that the finiahed filesand plots will go into the same folder"
      ],
      "metadata": {
        "id": "bMONeeF1V02Y"
      }
    },
    {
      "cell_type": "code",
      "source": [
        "DATA_FOLDER = 'D:/Please/change/this'\n",
        "\n",
        "DATA_OUTPUT = DATA_FOLDER"
      ],
      "metadata": {
        "id": "5JpmYBSSV2Co"
      },
      "execution_count": null,
      "outputs": []
    },
    {
      "cell_type": "markdown",
      "source": [
        "This is the bit that the 'ripper' will do. We are converting mZML files into JSon files. It allows us easier access to the data inside the files. By doing it this way we also check to see if the corresponding JSON file already exsists. If it does then it will not reconvert the file saving a lot of time.\n",
        "\n",
        "This will check all folders and subfolders in a specific location. If you do NOT want to look in subfolders change rglob to glob.\n"
      ],
      "metadata": {
        "id": "klf9L7t2WmO3"
      }
    },
    {
      "cell_type": "code",
      "source": [
        "for mzml in list(Path(DATA_FOLDER).rglob(\"*.mzml\")):\n",
        "    \n",
        "    if not Path(DATA_FOLDER, f'ripper_{mzml.stem}.json').exists():\n",
        "        \n",
        "        ripper.process_mzml_file(\n",
        "            filename=str(mzml),\n",
        "            out_dir=DATA_FOLDER)"
      ],
      "metadata": {
        "id": "p1Y_nKB9XXdf"
      },
      "execution_count": null,
      "outputs": []
    },
    {
      "cell_type": "markdown",
      "source": [
        ""
      ],
      "metadata": {
        "id": "isyNPKpdXyZY"
      }
    }
  ]
}